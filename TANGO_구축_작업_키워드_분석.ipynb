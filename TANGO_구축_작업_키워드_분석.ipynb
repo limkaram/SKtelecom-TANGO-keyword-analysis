{
  "nbformat": 4,
  "nbformat_minor": 0,
  "metadata": {
    "colab": {
      "name": "TANGO 구축 작업 키워드 분석.ipynb",
      "provenance": [],
      "private_outputs": true,
      "collapsed_sections": [],
      "authorship_tag": "ABX9TyNWD66/UoqABmeohO1kjXry",
      "include_colab_link": true
    },
    "kernelspec": {
      "name": "python3",
      "display_name": "Python 3"
    },
    "accelerator": "GPU"
  },
  "cells": [
    {
      "cell_type": "markdown",
      "metadata": {
        "id": "view-in-github",
        "colab_type": "text"
      },
      "source": [
        "<a href=\"https://colab.research.google.com/github/limkaram/SKtelecom-TANGO-keyword-analysis/blob/master/TANGO_%EA%B5%AC%EC%B6%95_%EC%9E%91%EC%97%85_%ED%82%A4%EC%9B%8C%EB%93%9C_%EB%B6%84%EC%84%9D.ipynb\" target=\"_parent\"><img src=\"https://colab.research.google.com/assets/colab-badge.svg\" alt=\"Open In Colab\"/></a>"
      ]
    },
    {
      "cell_type": "code",
      "metadata": {
        "id": "zxp3MxQgV6Nu",
        "colab_type": "code",
        "colab": {}
      },
      "source": [
        "# Google Drive 목록 Mounting(매 코딩 시작전 해주어야함)\n",
        "from google.colab import drive\n",
        "drive.mount('/content/drive/')"
      ],
      "execution_count": null,
      "outputs": []
    },
    {
      "cell_type": "code",
      "metadata": {
        "id": "Y6BuhlIq-p8I",
        "colab_type": "code",
        "colab": {}
      },
      "source": [
        "import os\n",
        "import numpy as np\n",
        "import pandas as pd"
      ],
      "execution_count": null,
      "outputs": []
    },
    {
      "cell_type": "code",
      "metadata": {
        "id": "3wzV1Tz7-xmG",
        "colab_type": "code",
        "colab": {}
      },
      "source": [
        "data = pd.read_excel('/content/drive/My Drive/Personal Project/TANGO 구축 작업 키워드 분석/20200101-20200731_TANGO 회선영향없음 키워드 주간 구축 작업.xlsx')\n",
        "# 분석 예정 컬럼 = ['작업명']\n",
        "data['작업명'].loc[0]"
      ],
      "execution_count": null,
      "outputs": []
    },
    {
      "cell_type": "code",
      "metadata": {
        "id": "jENG-pjC_c5m",
        "colab_type": "code",
        "colab": {}
      },
      "source": [
        "# DATA 전처리\n",
        "\n",
        "\n",
        "# 대괄호 내부 텍스트만 추출\n",
        "import re\n",
        "def get_regex_matching_text(text):\n",
        "    text_in_square_backet_regex = re.compile(r'\\[{1}.+\\]{1}')\n",
        "    result = text_in_square_backet_regex.findall(text)[0].replace('][', '|').replace('[', '').replace(']', '').split('|')\n",
        "    return result\n",
        "\n",
        "for name in data['작업명']:\n",
        "\n",
        "test_text = 'T주-S0303 [5G-PON][장비_증설_회선영향없음]_SSKB구리_C12M1C53L(인장로주공)_H_인창한진AAUD_1_COT유니트 증설_건우통신(C200730002125)'\n",
        "get_regex_matching_text(test_text)"
      ],
      "execution_count": null,
      "outputs": []
    },
    {
      "cell_type": "code",
      "metadata": {
        "id": "IbjHTIEfBe8a",
        "colab_type": "code",
        "colab": {}
      },
      "source": [
        ""
      ],
      "execution_count": null,
      "outputs": []
    }
  ]
}