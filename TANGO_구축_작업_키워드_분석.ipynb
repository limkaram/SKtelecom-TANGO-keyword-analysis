{
  "nbformat": 4,
  "nbformat_minor": 0,
  "metadata": {
    "colab": {
      "name": "TANGO 구축 작업 키워드 분석.ipynb",
      "provenance": [],
      "private_outputs": true,
      "collapsed_sections": [],
      "authorship_tag": "ABX9TyM+AcISko5hFQAAcCkTP5Me",
      "include_colab_link": true
    },
    "kernelspec": {
      "name": "python3",
      "display_name": "Python 3"
    },
    "accelerator": "GPU"
  },
  "cells": [
    {
      "cell_type": "markdown",
      "metadata": {
        "id": "view-in-github",
        "colab_type": "text"
      },
      "source": [
        "<a href=\"https://colab.research.google.com/github/limkaram/SKtelecom-TANGO-keyword-analysis/blob/master/TANGO_%EA%B5%AC%EC%B6%95_%EC%9E%91%EC%97%85_%ED%82%A4%EC%9B%8C%EB%93%9C_%EB%B6%84%EC%84%9D.ipynb\" target=\"_parent\"><img src=\"https://colab.research.google.com/assets/colab-badge.svg\" alt=\"Open In Colab\"/></a>"
      ]
    },
    {
      "cell_type": "code",
      "metadata": {
        "id": "zxp3MxQgV6Nu",
        "colab_type": "code",
        "colab": {}
      },
      "source": [
        "# Google Drive 목록 Mounting(매 코딩 시작전 해주어야함)\n",
        "from google.colab import drive\n",
        "drive.mount('/content/drive/')"
      ],
      "execution_count": null,
      "outputs": []
    },
    {
      "cell_type": "code",
      "metadata": {
        "id": "Y6BuhlIq-p8I",
        "colab_type": "code",
        "colab": {}
      },
      "source": [
        "import os\n",
        "import numpy as np\n",
        "import pandas as pd"
      ],
      "execution_count": null,
      "outputs": []
    },
    {
      "cell_type": "code",
      "metadata": {
        "id": "3wzV1Tz7-xmG",
        "colab_type": "code",
        "colab": {}
      },
      "source": [
        "data = pd.read_excel('/content/drive/My Drive/Personal Project/TANGO 구축 작업 키워드 분석/20200101-20200731_TANGO 회선영향없음 키워드 주간 구축 작업.xlsx')\n",
        "# 분석 예정 컬럼 = ['작업명']\n",
        "data['작업명'].loc[4393]  # 만들어 놓은 정규식 패턴에 맞지 않는 작업명"
      ],
      "execution_count": null,
      "outputs": []
    },
    {
      "cell_type": "code",
      "metadata": {
        "id": "jENG-pjC_c5m",
        "colab_type": "code",
        "colab": {}
      },
      "source": [
        "# 정규식 패턴에 부합하는 작업명 추출 함수\n",
        "import re\n",
        "def get_regex_matching_text(text):\n",
        "    text_in_square_backet_regex = re.compile(r'\\[{1}.+\\]{1}')  # 정규식 패턴 : 대괄호내 어떠한 단어라도 들어가있으면 부합\n",
        "    matched_text = text_in_square_backet_regex.search(text)\n",
        "    if matched_text:  # 정규식 패턴에 부합하는 작업명을 지닌 경우\n",
        "        return matched_text.group()\n",
        "    else:  # 정규식 패턴에 부합하는 부분을 전혀 가지지 않은 작업명의 경우 None을 반환하므로, pass\n",
        "        pass"
      ],
      "execution_count": null,
      "outputs": []
    },
    {
      "cell_type": "code",
      "metadata": {
        "id": "r9OBHhW7pNOR",
        "colab_type": "code",
        "colab": {}
      },
      "source": [
        "data[data['작업명'].apply(get_regex_matching_text).isnull() == True]  # 정규식패턴에 맞지 않는 row 확인(index = 4393)\n",
        "data['정제_작업명'] = data['작업명'].apply(get_regex_matching_text)  # 정규식화 함수를 거친 새로운 columns 생성\n",
        "\n",
        "# 대괄호 제거 후 내부 단어만 추출\n",
        "def get_rid_of_square_bracket(text):\n",
        "    if text:  # refined_text가 None이 아닌 경우만 대괄호 제거 후 정제\n",
        "        return text.replace('][', '|').lstrip('[').rstrip(']').split('|')\n",
        "    else:\n",
        "        return 0\n",
        "data['정제_작업명'] = data['정제_작업명'].apply(get_rid_of_square_bracket)\n",
        "data['정제_작업명'].loc[4390:4400]"
      ],
      "execution_count": null,
      "outputs": []
    },
    {
      "cell_type": "code",
      "metadata": {
        "id": "IS_cUJ3bu6oA",
        "colab_type": "code",
        "colab": {}
      },
      "source": [
        "# '정제_작업명' column에서 회선영향없음 포함하는 값은 삭제\n",
        "def re_refinement(value):\n",
        "    if type(value) is list:\n",
        "        return [i for i in value if len(i) != 1 if '회선영향없음' not in i]\n",
        "    else:\n",
        "        pass\n",
        "\n",
        "data['정제_작업명'] = data['정제_작업명'].apply(re_refinement)  # 최종 정제된 단어 리스트를 value로 가지는 column 완성"
      ],
      "execution_count": null,
      "outputs": []
    },
    {
      "cell_type": "code",
      "metadata": {
        "id": "MRVqPgL19-D7",
        "colab_type": "code",
        "colab": {}
      },
      "source": [
        "# 시각화 한글 깨짐 해소\n",
        "!sudo apt-get install -y fonts-nanum\n",
        "!sudo fc-cache -fv\n",
        "!rm ~/.cache/matplotlib -rf\n"
      ],
      "execution_count": null,
      "outputs": []
    },
    {
      "cell_type": "code",
      "metadata": {
        "id": "SxUgJ3Hq4W_E",
        "colab_type": "code",
        "colab": {}
      },
      "source": [
        "import seaborn as sns\n",
        "from matplotlib import pyplot as plt\n",
        "%matplotlib inline\n",
        "plt.rc('font', family='NanumBarunGothic')  # 한글 폰트 깨짐 해소\n",
        "\n",
        "# 텍스트별 갯수 시각화\n",
        "job_title_list = []\n",
        "\n",
        "for job_title in data['정제_작업명']:  # 정제_작업명 value dtype is list\n",
        "    if job_title:\n",
        "        for title in job_title:\n",
        "            job_title_list.append(title)\n",
        "\n",
        "for index, value in enumerate(job_title_list):\n",
        "    if len(value) > 7:\n",
        "        # print(value)\n",
        "        del(job_title_list[index])\n",
        "\n",
        "plt.figure(figsize=(16,6))\n",
        "plt.subplot()\n",
        "sns.countplot(x=job_title_list)\n",
        "plt.show()\n"
      ],
      "execution_count": null,
      "outputs": []
    },
    {
      "cell_type": "code",
      "metadata": {
        "id": "lS_2AKIm-3HZ",
        "colab_type": "code",
        "colab": {}
      },
      "source": [
        "# 키워드들의 종류가 너무 많아 시각화 분석이 힘드므로, 빈도수 분석부터 시행\n",
        "import collections\n",
        "\n",
        "keyword_counter = collections.Counter(job_title_list)\n",
        "keyword_counter = keyword_counter.most_common()"
      ],
      "execution_count": null,
      "outputs": []
    },
    {
      "cell_type": "code",
      "metadata": {
        "id": "w0Uu0VQtzksp",
        "colab_type": "code",
        "colab": {}
      },
      "source": [
        "# 빈도율 삽입\n",
        "# 전체 row 갯수 : 4954\n",
        "dataframe_form_dict = {'키워드': [],\n",
        "                       '빈도수': [],\n",
        "                       '빈도율(%)': []}\n",
        "for word, freq in keyword_counter:\n",
        "    freq_rate = round(freq / 4954 * 100)  # 단어 빈도율 계산\n",
        "    freq_rate_str = str(freq_rate) + '%'  # 단어 빈도율 문자열로 변경 후 % 붙힘\n",
        "    dataframe_form_dict['키워드'].append(word)\n",
        "    dataframe_form_dict['빈도수'].append(freq)\n",
        "    dataframe_form_dict['빈도율(%)'].append(freq_rate_str)\n",
        "# print(dataframe_form_dict)\n",
        "\n",
        "result_df = pd.DataFrame(dataframe_form_dict)\n",
        "result_df.head()"
      ],
      "execution_count": null,
      "outputs": []
    },
    {
      "cell_type": "code",
      "metadata": {
        "id": "y_Y3KHysT3JW",
        "colab_type": "code",
        "colab": {}
      },
      "source": [
        "# 데이터 전처리(불필요키워드 제거)\n",
        "result_df['키워드'].unique()  # 전체 키워드 확인\n",
        "\n",
        "unnecessary_keyword = [word for word in list(result_df['키워드']) if ' ' in word] # 단어 사이에 띄워쓰기 있는 불필요 키워드 발췌\n",
        "unnecessary_keyword += ['실사', '긴급', '접속', 'SKB', '중심국출입', '선번조사', '발란싱', '옥외랙', '긴급]', '위탁사업', '중심국출입요청', '군포통합국', 'OJC', 'IPD', 'PCM']  # 불필요 단어 발췌 후 추가\n",
        "\n",
        "for keyword in unnecessary_keyword:  # 전체 발췌 불필요 키워드 제거\n",
        "    result_df = result_df[result_df['키워드'] != keyword]\n",
        "\n",
        "result_df.head(10)"
      ],
      "execution_count": null,
      "outputs": []
    },
    {
      "cell_type": "code",
      "metadata": {
        "id": "Lcwh5_u7PWbm",
        "colab_type": "code",
        "colab": {}
      },
      "source": [
        "# 데이터 전처리(A망 키워드 제거)\n",
        "result_df['키워드'].unique()\n",
        "access_keyword = ['5G-PON', '링먹스', '5GPON', 'SMUX', '5G-PON2', 'CPRIMW', 'S-DDF', 'SDDF', 'DDF', 'S-MUX', '선로점검']  # A망 관련 키워드\n",
        "for keyword in access_keyword:\n",
        "    result_df = result_df[result_df['키워드'] != keyword]\n",
        "result_df = result_df.reset_index(drop=True)\n",
        "result_df.head(10)"
      ],
      "execution_count": null,
      "outputs": []
    },
    {
      "cell_type": "code",
      "metadata": {
        "id": "2bKGvFbfe1BT",
        "colab_type": "code",
        "colab": {}
      },
      "source": [
        "# iRMS 관련 키워드로만 구성\n",
        "irms_keywords = ['정류기', '부대공사', '부대물자', 'RMS', '부대시설', '축전지', '리튬']\n",
        "\n",
        "irms_df = pd.DataFrame(columns=result_df.columns)\n",
        "# irms_df.head()\n",
        "for keyword in irms_keywords:\n",
        "    irms_df = irms_df.append(result_df[result_df['키워드'] == keyword])\n",
        "irms_df.reset_index(drop=True)"
      ],
      "execution_count": null,
      "outputs": []
    }
  ]
}