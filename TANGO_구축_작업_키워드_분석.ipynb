{
  "nbformat": 4,
  "nbformat_minor": 0,
  "metadata": {
    "colab": {
      "name": "TANGO 구축 작업 키워드 분석.ipynb",
      "provenance": [],
      "private_outputs": true,
      "collapsed_sections": [],
      "authorship_tag": "ABX9TyPo8/exXwL9dz/d3nKtZLvR",
      "include_colab_link": true
    },
    "kernelspec": {
      "name": "python3",
      "display_name": "Python 3"
    },
    "accelerator": "GPU"
  },
  "cells": [
    {
      "cell_type": "markdown",
      "metadata": {
        "id": "view-in-github",
        "colab_type": "text"
      },
      "source": [
        "<a href=\"https://colab.research.google.com/github/limkaram/SKtelecom-TANGO-keyword-analysis/blob/master/TANGO_%EA%B5%AC%EC%B6%95_%EC%9E%91%EC%97%85_%ED%82%A4%EC%9B%8C%EB%93%9C_%EB%B6%84%EC%84%9D.ipynb\" target=\"_parent\"><img src=\"https://colab.research.google.com/assets/colab-badge.svg\" alt=\"Open In Colab\"/></a>"
      ]
    },
    {
      "cell_type": "code",
      "metadata": {
        "id": "zxp3MxQgV6Nu",
        "colab_type": "code",
        "colab": {}
      },
      "source": [
        "# Google Drive 목록 Mounting(매 코딩 시작전 해주어야함)\n",
        "from google.colab import drive\n",
        "drive.mount('/content/drive/')"
      ],
      "execution_count": null,
      "outputs": []
    },
    {
      "cell_type": "code",
      "metadata": {
        "id": "Y6BuhlIq-p8I",
        "colab_type": "code",
        "colab": {}
      },
      "source": [
        "import os\n",
        "import numpy as np\n",
        "import pandas as pd"
      ],
      "execution_count": null,
      "outputs": []
    },
    {
      "cell_type": "code",
      "metadata": {
        "id": "3wzV1Tz7-xmG",
        "colab_type": "code",
        "colab": {}
      },
      "source": [
        "data = pd.read_excel('/content/drive/My Drive/Personal Project/TANGO 구축 작업 키워드 분석/20200101-20200731_TANGO 회선영향없음 키워드 주간 구축 작업.xlsx')\n",
        "# 분석 예정 컬럼 = ['작업명']\n",
        "data['작업명'].loc[4393]  # 만들어 놓은 정규식 패턴에 맞지 않는 작업명"
      ],
      "execution_count": null,
      "outputs": []
    },
    {
      "cell_type": "code",
      "metadata": {
        "id": "jENG-pjC_c5m",
        "colab_type": "code",
        "colab": {}
      },
      "source": [
        "# 정규식 패턴에 부합하는 작업명 추출 함수\n",
        "import re\n",
        "def get_regex_matching_text(text):\n",
        "    text_in_square_backet_regex = re.compile(r'\\[{1}.+\\]{1}')  # 정규식 패턴 : 대괄호내 어떠한 단어라도 들어가있으면 부합\n",
        "    matched_text = text_in_square_backet_regex.search(text)\n",
        "    if matched_text:  # 정규식 패턴에 부합하는 작업명을 지닌 경우\n",
        "        return matched_text.group()\n",
        "    else:  # 정규식 패턴에 부합하는 부분을 전혀 가지지 않은 작업명의 경우 None을 반환하므로, pass\n",
        "        pass"
      ],
      "execution_count": null,
      "outputs": []
    },
    {
      "cell_type": "code",
      "metadata": {
        "id": "r9OBHhW7pNOR",
        "colab_type": "code",
        "colab": {}
      },
      "source": [
        "data[data['작업명'].apply(get_regex_matching_text).isnull() == True]  # 정규식패턴에 맞지 않는 row 확인(index = 4393)\n",
        "data['정제_작업명'] = data['작업명'].apply(get_regex_matching_text)  # 정규식화 함수를 거친 새로운 columns 생성\n",
        "\n",
        "# 대괄호 제거 후 내부 단어만 추출\n",
        "def get_rid_of_square_bracket(text):\n",
        "    if text:  # refined_text가 None이 아닌 경우만 대괄호 제거 후 정제\n",
        "        return text.replace('][', '|').lstrip('[').rstrip(']').split('|')\n",
        "    else:\n",
        "        return 0\n",
        "data['정제_작업명'] = data['정제_작업명'].apply(get_rid_of_square_bracket)\n",
        "data['정제_작업명'].loc[4390:4400]"
      ],
      "execution_count": null,
      "outputs": []
    },
    {
      "cell_type": "code",
      "metadata": {
        "id": "IS_cUJ3bu6oA",
        "colab_type": "code",
        "colab": {}
      },
      "source": [
        "# '정제_작업명' column에서 회선영향없음 포함하는 값은 삭제\n",
        "def re_refinement(value):\n",
        "    if type(value) is list:\n",
        "        return [i for i in value if len(i) != 1 if '회선영향없음' not in i]\n",
        "    else:\n",
        "        pass\n",
        "\n",
        "data['정제_작업명'] = data['정제_작업명'].apply(re_refinement)  # 최종 정제된 단어 리스트를 value로 가지는 column 완성"
      ],
      "execution_count": null,
      "outputs": []
    }
  ]
}